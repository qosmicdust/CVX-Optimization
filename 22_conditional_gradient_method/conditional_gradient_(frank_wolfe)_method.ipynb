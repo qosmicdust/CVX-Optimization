{
  "nbformat": 4,
  "nbformat_minor": 0,
  "metadata": {
    "colab": {
      "name": "conditional_gradient_(frank-wolfe)_method.ipynb",
      "provenance": []
    },
    "kernelspec": {
      "name": "python3",
      "display_name": "Python 3"
    },
    "language_info": {
      "name": "python"
    }
  },
  "cells": [
    {
      "cell_type": "code",
      "execution_count": 1,
      "metadata": {
        "colab": {
          "base_uri": "https://localhost:8080/",
          "height": 312
        },
        "id": "3A9TMDtf4r-A",
        "outputId": "80eff542-ee86-4c9c-f0f4-fb706c4b8bc6"
      },
      "outputs": [
        {
          "output_type": "display_data",
          "data": {
            "image/png": "[encoded data removed]",
            "text/plain": [
              "<Figure size 432x288 with 1 Axes>"
            ]
          },
          "metadata": {
            "needs_background": "light"
          }
        },
        {
          "output_type": "stream",
          "name": "stdout",
          "text": [
            "Sparsity of solution: 0.1%\n"
          ]
        }
      ],
      "source": [
        "import numpy as np\n",
        "from scipy import sparse\n",
        "\n",
        "# .. for plotting ..\n",
        "import pylab as plt\n",
        "# .. to generate a synthetic dataset ..\n",
        "from sklearn import datasets\n",
        "\n",
        "n_samples, n_features = 1000, 10000\n",
        "A, b = datasets.make_regression(n_samples, n_features)\n",
        "\n",
        "def FW(alpha, max_iter=200, tol=1e-8):\n",
        "    # .. initial estimate, could be any feasible point ..\n",
        "    x_t = sparse.dok_matrix((n_features, 1))\n",
        "    trace = []  # to keep track of the gap\n",
        "\n",
        "    # .. some quantities can be precomputed ..\n",
        "    Atb = A.T.dot(b)\n",
        "    for it in range(max_iter):\n",
        "        # .. compute gradient. Slightly more involved than usual because ..\n",
        "        # .. of the use of sparse matrices ..\n",
        "        Ax = x_t.T.dot(A.T).ravel()\n",
        "        grad = (A.T.dot(Ax) - Atb)\n",
        "\n",
        "        # .. the LMO results in a vector that is zero everywhere except for ..\n",
        "        # .. a single index. Of this vector we only store its index and magnitude ..\n",
        "        idx_oracle = np.argmax(np.abs(grad))\n",
        "        mag_oracle = alpha * np.sign(-grad[idx_oracle])\n",
        "        g_t = x_t.T.dot(grad).ravel() - grad[idx_oracle] * mag_oracle\n",
        "        trace.append(g_t)\n",
        "        if g_t <= tol:\n",
        "            break\n",
        "        q_t = A[:, idx_oracle] * mag_oracle - Ax\n",
        "        step_size = min(q_t.dot(b - Ax) / q_t.dot(q_t), 1.)\n",
        "        x_t = (1. - step_size) * x_t\n",
        "        x_t[idx_oracle] = x_t[idx_oracle] + step_size * mag_oracle\n",
        "    return x_t, np.array(trace)\n",
        "\n",
        "# .. plot evolution of FW gap ..\n",
        "sol, trace = FW(.5 * n_features)\n",
        "plt.plot(trace)\n",
        "plt.yscale('log')\n",
        "plt.xlabel('Number of iterations')\n",
        "plt.ylabel('FW gap')\n",
        "plt.title('FW on a Lasso problem')\n",
        "plt.grid()\n",
        "plt.show()\n",
        "\n",
        "sparsity = np.mean(sol.toarray().ravel() != 0)\n",
        "print('Sparsity of solution: %s%%' % (sparsity * 100))"
      ]
    }
  ]
}