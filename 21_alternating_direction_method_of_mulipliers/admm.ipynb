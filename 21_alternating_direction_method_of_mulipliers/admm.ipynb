{
  "nbformat": 4,
  "nbformat_minor": 0,
  "metadata": {
    "colab": {
      "name": "admm.ipynb",
      "provenance": [],
      "collapsed_sections": []
    },
    "kernelspec": {
      "name": "python3",
      "display_name": "Python 3"
    },
    "language_info": {
      "name": "python"
    }
  },
  "cells": [
    {
      "cell_type": "code",
      "execution_count": 2,
      "metadata": {
        "colab": {
          "base_uri": "https://localhost:8080/",
          "height": 265
        },
        "id": "rBdGxIL_xy0H",
        "outputId": "9b36999b-bcef-4a92-86bf-ce208309dd81"
      },
      "outputs": [
        {
          "output_type": "display_data",
          "data": {
            "image/png": "[encoded data removed]",
            "text/plain": [
              "<Figure size 432x288 with 1 Axes>"
            ]
          },
          "metadata": {
            "needs_background": "light"
          }
        }
      ],
      "source": [
        "import numpy as np\n",
        "import matplotlib.pyplot as plt\n",
        "from math import sqrt, log\n",
        "\n",
        "def ADMM(A, y):\n",
        "    \"\"\"Alternating Direction Method of Multipliers\n",
        "\n",
        "    This is a python implementation of the Alternating Direction\n",
        "    Method of Multipliers - a method of constrained optimisation\n",
        "    that is used widely in statistics (http://stanford.edu/~boyd/admm.html).\n",
        "\n",
        "    This is simplified version, specifically for the LASSO\n",
        "    \"\"\"\n",
        "\n",
        "    m, n = A.shape\n",
        "    A_t_A = A.T.dot(A)\n",
        "    w, v = np.linalg.eig(A_t_A)\n",
        "    MAX_ITER = 10000\n",
        "\n",
        "    #Function to caluculate min 1/2(y - Ax) + l||x||\n",
        "    #via alternating direction methods\n",
        "    x_hat = np.zeros([n, 1])\n",
        "    z_hat = np.zeros([n, 1])\n",
        "    u = np.zeros([n, 1])\n",
        "\n",
        "    #Calculate regression co-efficient and stepsize\n",
        "    r = np.amax(np.absolute(w))\n",
        "    l_over_rho = sqrt(2*log(n, 10)) * r / 2.0 # I might be wrong here\n",
        "    rho = 1/r\n",
        "\n",
        "    #Pre-compute to save some multiplications\n",
        "    A_t_y = A.T.dot(y)\n",
        "    Q = A_t_A + rho * np.identity(n)\n",
        "    Q = np.linalg.inv(Q)\n",
        "    Q_dot = Q.dot\n",
        "    sign = np.sign\n",
        "    maximum = np.maximum\n",
        "    absolute = np.absolute\n",
        "\n",
        "    for _ in range(MAX_ITER):\n",
        "        #x minimisation step via posterier OLS\n",
        "        x_hat = Q_dot(A_t_y + rho*(z_hat - u))\n",
        "        #z minimisation via soft-thresholding\n",
        "        u = x_hat + u\n",
        "        z_hat = sign(u) * maximum(0, absolute(u)-l_over_rho)\n",
        "        #mulitplier update\n",
        "        u = u - z_hat\n",
        "\n",
        "    return z_hat\n",
        "\n",
        "def test(m=50, n=200):\n",
        "    \"\"\"Test the ADMM method with randomly generated matrices and vectors\"\"\"\n",
        "    A = np.random.randn(m, n)\n",
        "\n",
        "    num_non_zeros = 10\n",
        "    positions = np.random.randint(0, n, num_non_zeros)\n",
        "    amplitudes = 100*np.random.randn(num_non_zeros, 1)\n",
        "    x = np.zeros((n, 1))\n",
        "    x[positions] = amplitudes\n",
        "\n",
        "    y = A.dot(x) + np.random.randn(m, 1)\n",
        "\n",
        "    plot(x, ADMM(A,y))\n",
        "\n",
        "def plot(original, computed):\n",
        "    \"\"\"Plot two vectors to compare their values\"\"\"\n",
        "    plt.plot(original, label='Original')\n",
        "    plt.plot(computed, label='Estimate')\n",
        "\n",
        "    plt.legend(loc='upper right')\n",
        "\n",
        "    plt.show()\n",
        "\n",
        "if __name__ == \"__main__\":\n",
        "    test()"
      ]
    }
  ]
}