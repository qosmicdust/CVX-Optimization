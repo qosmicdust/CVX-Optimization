{
  "nbformat": 4,
  "nbformat_minor": 0,
  "metadata": {
    "colab": {
      "name": "newtons_method_scipy.ipynb",
      "provenance": []
    },
    "kernelspec": {
      "name": "python3",
      "display_name": "Python 3"
    },
    "language_info": {
      "name": "python"
    }
  },
  "cells": [
    {
      "cell_type": "markdown",
      "source": [
        "scipy.optimize.newton\n",
        "\n",
        "scipy.optimize.newton(func, x0, fprime=None, args=(), tol=1.48e-08, maxiter=50, fprime2=None, x1=None, rtol=0.0, full_output=False, disp=True)"
      ],
      "metadata": {
        "id": "BPkb6ozDgaDY"
      }
    },
    {
      "cell_type": "code",
      "source": [
        "import matplotlib.pyplot as plt\n",
        "import numpy as np\n",
        "from scipy import optimize"
      ],
      "metadata": {
        "id": "jW4CUw_RgnS1"
      },
      "execution_count": 10,
      "outputs": []
    },
    {
      "cell_type": "code",
      "source": [
        "def f(x):\n",
        "    return (x**3 - 1)  # only one real root at x = 1"
      ],
      "metadata": {
        "id": "jkII_XWJguCt"
      },
      "execution_count": 3,
      "outputs": []
    },
    {
      "cell_type": "markdown",
      "source": [
        "fprime is not provided, use the secant method:"
      ],
      "metadata": {
        "id": "x1wQIDCvhBcH"
      }
    },
    {
      "cell_type": "code",
      "source": [
        "root = optimize.newton(f, 1.5)\n",
        "root"
      ],
      "metadata": {
        "colab": {
          "base_uri": "https://localhost:8080/"
        },
        "id": "KwS0CYoGgy1o",
        "outputId": "3028bb03-2779-48e2-d370-1fac456fd703"
      },
      "execution_count": 4,
      "outputs": [
        {
          "output_type": "execute_result",
          "data": {
            "text/plain": [
              "1.0000000000000016"
            ]
          },
          "metadata": {},
          "execution_count": 4
        }
      ]
    },
    {
      "cell_type": "code",
      "source": [
        "root = optimize.newton(f, 1.5, fprime2=lambda x: 6 * x)\n",
        "root"
      ],
      "metadata": {
        "colab": {
          "base_uri": "https://localhost:8080/"
        },
        "id": "GFPfdm6Fg4n2",
        "outputId": "0b0e34ec-80ef-404b-924e-f698e9601424"
      },
      "execution_count": 5,
      "outputs": [
        {
          "output_type": "execute_result",
          "data": {
            "text/plain": [
              "1.0000000000000016"
            ]
          },
          "metadata": {},
          "execution_count": 5
        }
      ]
    },
    {
      "cell_type": "markdown",
      "source": [
        "Only fprime is provided, use the Newton-Raphson method:"
      ],
      "metadata": {
        "id": "P0J7uiLxhHOI"
      }
    },
    {
      "cell_type": "code",
      "source": [
        "root = optimize.newton(f, 1.5, fprime=lambda x: 3 * x**2)\n",
        "root"
      ],
      "metadata": {
        "colab": {
          "base_uri": "https://localhost:8080/"
        },
        "id": "tqw1spWGhRjm",
        "outputId": "042b07c7-3d73-40ea-8fbe-844a57bf5ccc"
      },
      "execution_count": 6,
      "outputs": [
        {
          "output_type": "execute_result",
          "data": {
            "text/plain": [
              "1.0"
            ]
          },
          "metadata": {},
          "execution_count": 6
        }
      ]
    },
    {
      "cell_type": "markdown",
      "source": [
        "Both fprime2 and fprime are provided, use Halley’s method:"
      ],
      "metadata": {
        "id": "k1xNtjuJhW1d"
      }
    },
    {
      "cell_type": "code",
      "source": [
        "root = optimize.newton(f, 1.5, fprime=lambda x: 3 * x**2,\n",
        "                       fprime2=lambda x: 6 * x)\n",
        "root"
      ],
      "metadata": {
        "colab": {
          "base_uri": "https://localhost:8080/"
        },
        "id": "RYNj8hROhZM2",
        "outputId": "7b6ea115-316a-429f-d43b-685879cbbf8b"
      },
      "execution_count": 7,
      "outputs": [
        {
          "output_type": "execute_result",
          "data": {
            "text/plain": [
              "1.0"
            ]
          },
          "metadata": {},
          "execution_count": 7
        }
      ]
    },
    {
      "cell_type": "markdown",
      "source": [
        "When we want to find zeros for a set of related starting values and/or function parameters, we can provide both of those as an array of inputs:"
      ],
      "metadata": {
        "id": "iazExEekhfKR"
      }
    },
    {
      "cell_type": "code",
      "source": [
        "f = lambda x, a: x**3 - a\n",
        "fder = lambda x, a: 3 * x**2\n",
        "rng = np.random.default_rng()\n",
        "x = rng.standard_normal(100)\n",
        "a = np.arange(-50, 50)\n",
        "vec_res = optimize.newton(f, x, fprime=fder, args=(a, ), maxiter=200)"
      ],
      "metadata": {
        "id": "KEIfO-3bhf9o"
      },
      "execution_count": 11,
      "outputs": []
    },
    {
      "cell_type": "markdown",
      "source": [
        "The above is the equivalent of solving for each value in (x, a) separately in a for-loop, just faster:"
      ],
      "metadata": {
        "id": "zlhhTDjXh0fv"
      }
    },
    {
      "cell_type": "code",
      "source": [
        "loop_res = [optimize.newton(f, x0, fprime=fder, args=(a0,))\n",
        "            for x0, a0 in zip(x, a)]\n",
        "np.allclose(vec_res, loop_res)"
      ],
      "metadata": {
        "colab": {
          "base_uri": "https://localhost:8080/"
        },
        "id": "PiLLVyhHh1PS",
        "outputId": "c7d51ebf-5bcc-4c19-df6e-462e4df18fd6"
      },
      "execution_count": 13,
      "outputs": [
        {
          "output_type": "execute_result",
          "data": {
            "text/plain": [
              "True"
            ]
          },
          "metadata": {},
          "execution_count": 13
        }
      ]
    },
    {
      "cell_type": "markdown",
      "source": [
        "Plot the results found for all values of a:"
      ],
      "metadata": {
        "id": "p2QNY9mth__l"
      }
    },
    {
      "cell_type": "code",
      "source": [
        "analytical_result = np.sign(a) * np.abs(a)**(1/3)\n",
        "fig = plt.figure()\n",
        "ax = fig.add_subplot(111)\n",
        "ax.plot(a, analytical_result, 'o')\n",
        "ax.plot(a, vec_res, '.')\n",
        "ax.set_xlabel('$a$')\n",
        "ax.set_ylabel('$x$ where $f(x, a)=0$')\n",
        "plt.show()"
      ],
      "metadata": {
        "colab": {
          "base_uri": "https://localhost:8080/",
          "height": 283
        },
        "id": "0koCRPBZiApR",
        "outputId": "9f9af394-6319-44e5-a144-be2d61b6ff94"
      },
      "execution_count": 14,
      "outputs": [
        {
          "output_type": "display_data",
          "data": {
            "image/png": "[encoded data removed]",
            "text/plain": [
              "<Figure size 432x288 with 1 Axes>"
            ]
          },
          "metadata": {
            "needs_background": "light"
          }
        }
      ]
    }
  ]
}