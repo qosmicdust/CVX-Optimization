{
  "nbformat": 4,
  "nbformat_minor": 0,
  "metadata": {
    "colab": {
      "name": "coordinate_descent.ipynb",
      "provenance": []
    },
    "kernelspec": {
      "name": "python3",
      "display_name": "Python 3"
    },
    "language_info": {
      "name": "python"
    }
  },
  "cells": [
    {
      "cell_type": "code",
      "source": [
        "import pandas as pd\n",
        "import matplotlib.pyplot as plt\n",
        "import numpy as np\n",
        "from sklearn.datasets import load_boston\n",
        "from sklearn.preprocessing import StandardScaler\n",
        "\n",
        "#  boston house-prices dataset\n",
        "data = load_boston()\n",
        "X, y = data.data, data.target\n",
        "\n",
        "X = StandardScaler().fit_transform(X)  # for easy convergence\n",
        "X = np.hstack([X, np.ones((X.shape[0], 1))])\n",
        "\n",
        "param = np.zeros(X.shape[1])\n",
        "\n",
        "def costf(X, y, param):\n",
        "    return np.sum((X.dot(param) - y) ** 2)/(2 * len(y))\n",
        "\n",
        "def gradient_descent(X, y, param, eta=0.01, iter=300):\n",
        "    cost_history = [0] * (iter+1)\n",
        "    cost_history[0] = costf(X, y, param)  # you may want to save initial cost\n",
        "\n",
        "    for iteration in range(iter):\n",
        "        h = X.dot(param)\n",
        "        loss = h - y.ravel()\n",
        "        gradient = X.T.dot(loss)/(2 * len(y))\n",
        "        param = param - eta * gradient\n",
        "        cost = costf(X, y, param)\n",
        "        #print(cost)\n",
        "        cost_history[iteration+1] = cost\n",
        "\n",
        "    return param, cost_history\n",
        "\n",
        "def coordinate_descent(X, y, param, iter=300):\n",
        "    cost_history = [0] * (iter+1)\n",
        "    cost_history[0] = costf(X, y, param)\n",
        "\n",
        "    for iteration in range(iter):\n",
        "        for i in range(len(param)):\n",
        "            dele = np.dot(np.delete(X, i, axis=1), np.delete(param, i, axis=0))\n",
        "            param[i] = np.dot(X[:,i].T, (y.ravel() - dele))/np.sum(np.square(X[:,i]))\n",
        "            cost = costf(X, y, param)\n",
        "            cost_history[iteration+1] = cost\n",
        "\n",
        "    return param, cost_history\n",
        "\n",
        "ret, xret = gradient_descent(X, y, param)\n",
        "cret, cxret = coordinate_descent(X, y, param.copy())\n",
        "\n",
        "plt.plot(range(len(xret)), xret, label=\"GD\")\n",
        "plt.plot(range(len(cxret)), cxret, label=\"CD\")\n",
        "plt.legend()"
      ],
      "metadata": {
        "colab": {
          "base_uri": "https://localhost:8080/",
          "height": 907
        },
        "id": "lXi3B5NT2VPv",
        "outputId": "e243478c-65a2-4c0b-f81e-d96c38ca6ea0"
      },
      "execution_count": 7,
      "outputs": [
        {
          "output_type": "stream",
          "name": "stderr",
          "text": [
            "/usr/local/lib/python3.7/dist-packages/sklearn/utils/deprecation.py:87: FutureWarning: Function load_boston is deprecated; `load_boston` is deprecated in 1.0 and will be removed in 1.2.\n",
            "\n",
            "    The Boston housing prices dataset has an ethical problem. You can refer to\n",
            "    the documentation of this function for further details.\n",
            "\n",
            "    The scikit-learn maintainers therefore strongly discourage the use of this\n",
            "    dataset unless the purpose of the code is to study and educate about\n",
            "    ethical issues in data science and machine learning.\n",
            "\n",
            "    In this special case, you can fetch the dataset from the original\n",
            "    source::\n",
            "\n",
            "        import pandas as pd\n",
            "        import numpy as np\n",
            "\n",
            "\n",
            "        data_url = \"http://lib.stat.cmu.edu/datasets/boston\"\n",
            "        raw_df = pd.read_csv(data_url, sep=\"\\s+\", skiprows=22, header=None)\n",
            "        data = np.hstack([raw_df.values[::2, :], raw_df.values[1::2, :2]])\n",
            "        target = raw_df.values[1::2, 2]\n",
            "\n",
            "    Alternative datasets include the California housing dataset (i.e.\n",
            "    :func:`~sklearn.datasets.fetch_california_housing`) and the Ames housing\n",
            "    dataset. You can load the datasets as follows::\n",
            "\n",
            "        from sklearn.datasets import fetch_california_housing\n",
            "        housing = fetch_california_housing()\n",
            "\n",
            "    for the California housing dataset and::\n",
            "\n",
            "        from sklearn.datasets import fetch_openml\n",
            "        housing = fetch_openml(name=\"house_prices\", as_frame=True)\n",
            "\n",
            "    for the Ames housing dataset.\n",
            "    \n",
            "  warnings.warn(msg, category=FutureWarning)\n"
          ]
        },
        {
          "output_type": "execute_result",
          "data": {
            "text/plain": [
              "<matplotlib.legend.Legend at 0x7f76d8726c10>"
            ]
          },
          "metadata": {},
          "execution_count": 7
        },
        {
          "output_type": "display_data",
          "data": {
            "image/png": "[encoded data removed]",
            "text/plain": [
              "<Figure size 432x288 with 1 Axes>"
            ]
          },
          "metadata": {
            "needs_background": "light"
          }
        }
      ]
    },
    {
      "cell_type": "code",
      "source": [
        ""
      ],
      "metadata": {
        "id": "XDv4_rYb2udk"
      },
      "execution_count": null,
      "outputs": []
    }
  ]
}